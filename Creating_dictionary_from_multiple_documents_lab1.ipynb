{
  "cells": [
    {
      "cell_type": "code",
      "execution_count": null,
      "id": "9ffc3a2c",
      "metadata": {
        "colab": {
          "base_uri": "https://localhost:8080/"
        },
        "id": "9ffc3a2c",
        "outputId": "67f75c3d-d7ea-40c6-b3d0-49fb9e0bffbe"
      },
      "outputs": [
        {
          "output_type": "stream",
          "name": "stderr",
          "text": [
            "[nltk_data] Downloading package punkt to /root/nltk_data...\n",
            "[nltk_data]   Unzipping tokenizers/punkt.zip.\n"
          ]
        },
        {
          "output_type": "execute_result",
          "data": {
            "text/plain": [
              "True"
            ]
          },
          "metadata": {},
          "execution_count": 1
        }
      ],
      "source": [
        "from nltk.tokenize import word_tokenize, sent_tokenize\n",
        "import nltk\n",
        "nltk.download('punkt')"
      ]
    },
    {
      "cell_type": "code",
      "execution_count": null,
      "id": "d8d9eea8",
      "metadata": {
        "id": "d8d9eea8"
      },
      "outputs": [],
      "source": [
        "text = \"Hello everyone\""
      ]
    },
    {
      "cell_type": "code",
      "execution_count": null,
      "id": "387a7dc6",
      "metadata": {
        "colab": {
          "base_uri": "https://localhost:8080/"
        },
        "id": "387a7dc6",
        "outputId": "bfc70681-c52d-45b4-ace8-cb810a070662"
      },
      "outputs": [
        {
          "output_type": "stream",
          "name": "stdout",
          "text": [
            "['Hello', 'everyone']\n"
          ]
        }
      ],
      "source": [
        "print(word_tokenize(text))"
      ]
    },
    {
      "cell_type": "code",
      "execution_count": null,
      "id": "4bac2f48",
      "metadata": {
        "id": "4bac2f48"
      },
      "outputs": [],
      "source": [
        "pip install punkt"
      ]
    },
    {
      "cell_type": "code",
      "execution_count": null,
      "id": "643fd132",
      "metadata": {
        "id": "643fd132"
      },
      "outputs": [],
      "source": [
        "sentence = [\"scikit-learn is largely written in Python, and uses NumPy extensively for high-performance linear algebra and array operations. Furthermore, some core algorithms are written in Cython to improve performance. Support vector machines are implemented by a Cython wrapper around LIBSVM; logistic regression and linear support vector machines by a similar wrapper around LIBLINEAR. In such cases, extending these methods with Python may not be possible.scikit-learn integrates well with many other Python libraries, such as Matplotlib and plotly for plotting, NumPy for array vectorization, Pandas dataframes, SciPy, and many more\",\n",
        "           \"We present iNLTK, an open-source NLP library consisting of pre-trained language models and out-of-the-box support for Data Augmentation, Textual Similarity, Sentence Embeddings, Word Embeddings, Tokenization and Text Generation in 13 Indic Languages. By using pre-trained models from iNLTK for text classification on publicly available datasets, we significantly outperform previously reported results. On these datasets, we also show that by using pre-trained models and data augmentation from iNLTK, we can achieve more than 95% of the previous best performance by using less than 10% of the training data. iNLTK is already being widely used by the community and has 40,000+ downloads, 600+ stars and 100+ forks on GitHub. The library is available at https://github.com/goru001/inltk.&quot;\",\n",
        "            \"The Natural Language Toolkit, or more commonly NLTK, is a suite of libraries and programs for symbolic and statistical natural language processing (NLP) for English written in the Python programming language. It supports classification, tokenization, stemming, tagging, parsing, and semantic reasoning functionalities.[4] It was developed by Steven Bird and Edward Loper in the Department of Computer and Information Science at the University of Pennsylvania.[5] NLTK includes graphical demonstrations and sample data. It is accompanied by a book that explains the underlying concepts behind the language processing tasks supported by the toolkit,[6] plus a cookbook.\"\n",
        "           ]"
      ]
    },
    {
      "cell_type": "code",
      "execution_count": null,
      "id": "d6a72c06",
      "metadata": {
        "id": "d6a72c06"
      },
      "outputs": [],
      "source": [
        "tokenized = []\n",
        "\n",
        "for i in range(len(sentence)):\n",
        "    tokenized.extend(word_tokenize(sentence[i]))"
      ]
    },
    {
      "cell_type": "code",
      "execution_count": null,
      "id": "ceb7b27b",
      "metadata": {
        "colab": {
          "base_uri": "https://localhost:8080/"
        },
        "id": "ceb7b27b",
        "outputId": "c4354f1a-f2c6-48af-9913-066eeb39a45f"
      },
      "outputs": [
        {
          "output_type": "stream",
          "name": "stdout",
          "text": [
            "['scikit-learn', 'is', 'largely', 'written', 'in', 'Python', ',', 'and', 'uses', 'NumPy', 'extensively', 'for', 'high-performance', 'linear', 'algebra', 'and', 'array', 'operations', '.', 'Furthermore', ',', 'some', 'core', 'algorithms', 'are', 'written', 'in', 'Cython', 'to', 'improve', 'performance', '.', 'Support', 'vector', 'machines', 'are', 'implemented', 'by', 'a', 'Cython', 'wrapper', 'around', 'LIBSVM', ';', 'logistic', 'regression', 'and', 'linear', 'support', 'vector', 'machines', 'by', 'a', 'similar', 'wrapper', 'around', 'LIBLINEAR', '.', 'In', 'such', 'cases', ',', 'extending', 'these', 'methods', 'with', 'Python', 'may', 'not', 'be', 'possible.scikit-learn', 'integrates', 'well', 'with', 'many', 'other', 'Python', 'libraries', ',', 'such', 'as', 'Matplotlib', 'and', 'plotly', 'for', 'plotting', ',', 'NumPy', 'for', 'array', 'vectorization', ',', 'Pandas', 'dataframes', ',', 'SciPy', ',', 'and', 'many', 'more', 'We', 'present', 'iNLTK', ',', 'an', 'open-source', 'NLP', 'library', 'consisting', 'of', 'pre-trained', 'language', 'models', 'and', 'out-of-the-box', 'support', 'for', 'Data', 'Augmentation', ',', 'Textual', 'Similarity', ',', 'Sentence', 'Embeddings', ',', 'Word', 'Embeddings', ',', 'Tokenization', 'and', 'Text', 'Generation', 'in', '13', 'Indic', 'Languages', '.', 'By', 'using', 'pre-trained', 'models', 'from', 'iNLTK', 'for', 'text', 'classification', 'on', 'publicly', 'available', 'datasets', ',', 'we', 'significantly', 'outperform', 'previously', 'reported', 'results', '.', 'On', 'these', 'datasets', ',', 'we', 'also', 'show', 'that', 'by', 'using', 'pre-trained', 'models', 'and', 'data', 'augmentation', 'from', 'iNLTK', ',', 'we', 'can', 'achieve', 'more', 'than', '95', '%', 'of', 'the', 'previous', 'best', 'performance', 'by', 'using', 'less', 'than', '10', '%', 'of', 'the', 'training', 'data', '.', 'iNLTK', 'is', 'already', 'being', 'widely', 'used', 'by', 'the', 'community', 'and', 'has', '40,000+', 'downloads', ',', '600+', 'stars', 'and', '100+', 'forks', 'on', 'GitHub', '.', 'The', 'library', 'is', 'available', 'at', 'https', ':', '//github.com/goru001/inltk.', '&', 'quot', ';', 'The', 'Natural', 'Language', 'Toolkit', ',', 'or', 'more', 'commonly', 'NLTK', ',', 'is', 'a', 'suite', 'of', 'libraries', 'and', 'programs', 'for', 'symbolic', 'and', 'statistical', 'natural', 'language', 'processing', '(', 'NLP', ')', 'for', 'English', 'written', 'in', 'the', 'Python', 'programming', 'language', '.', 'It', 'supports', 'classification', ',', 'tokenization', ',', 'stemming', ',', 'tagging', ',', 'parsing', ',', 'and', 'semantic', 'reasoning', 'functionalities', '.', '[', '4', ']', 'It', 'was', 'developed', 'by', 'Steven', 'Bird', 'and', 'Edward', 'Loper', 'in', 'the', 'Department', 'of', 'Computer', 'and', 'Information', 'Science', 'at', 'the', 'University', 'of', 'Pennsylvania', '.', '[', '5', ']', 'NLTK', 'includes', 'graphical', 'demonstrations', 'and', 'sample', 'data', '.', 'It', 'is', 'accompanied', 'by', 'a', 'book', 'that', 'explains', 'the', 'underlying', 'concepts', 'behind', 'the', 'language', 'processing', 'tasks', 'supported', 'by', 'the', 'toolkit', ',', '[', '6', ']', 'plus', 'a', 'cookbook', '.']\n"
          ]
        },
        {
          "output_type": "execute_result",
          "data": {
            "text/plain": [
              "351"
            ]
          },
          "metadata": {},
          "execution_count": 8
        }
      ],
      "source": [
        "print(tokenized)\n",
        "len(tokenized)\n"
      ]
    },
    {
      "cell_type": "code",
      "execution_count": null,
      "id": "fa5daf91",
      "metadata": {
        "id": "fa5daf91"
      },
      "outputs": [],
      "source": [
        "vocabulary = set(tokenized)"
      ]
    },
    {
      "cell_type": "code",
      "execution_count": 24,
      "id": "d666eb9a",
      "metadata": {
        "colab": {
          "base_uri": "https://localhost:8080/"
        },
        "id": "d666eb9a",
        "outputId": "2cd9b5f1-c459-485e-9936-eb8a1fa0c4b4"
      },
      "outputs": [
        {
          "output_type": "stream",
          "name": "stdout",
          "text": [
            "{'other', 'functionalities', 'on', 'programs', 'tokenization', 'uses', 'book', 'processing', 'Science', 'tagging', 'Computer', 'integrates', 'Information', 'logistic', 'than', '10', 'forks', 'operations', 'plotting', 'plus', 'already', 'not', 'statistical', 'a', 'such', 'at', 'training', 'used', ')', 'supports', 'University', 'behind', 'includes', 'Pandas', 'language', 'stemming', 'suite', 'parsing', 'Textual', 'English', 'plotly', 'LIBLINEAR', 'Matplotlib', 'an', '95', 'Support', '13', 'reasoning', 'similar', 'Department', ']', 'downloads', 'sample', 'Pennsylvania', 'pre-trained', 'By', '4', 'possible.scikit-learn', 'previously', 'achieve', 'significantly', 'and', 'reported', 'underlying', 'We', '6', 'machines', 'iNLTK', 'tasks', 'are', 'Similarity', 'natural', 'Data', 'many', 'scikit-learn', 'Tokenization', ';', 'accompanied', 'or', 'dataframes', 'text', 'Sentence', 'wrapper', 'NumPy', 'graphical', 'augmentation', 'performance', 'data', 'array', 'GitHub', 'core', 'cookbook', 'outperform', 'is', 'Text', 'less', '//github.com/goru001/inltk.', 'can', 'Loper', 'may', 'that', 'some', 'vectorization', 'models', 'concepts', 'show', 'from', 'for', 'Bird', 'Toolkit', 'datasets', 'Edward', 'supported', 'open-source', 'the', 'high-performance', 'best', 'algorithms', 'well', 'community', 'algebra', 'stars', 'extensively', 'has', 'symbolic', 'being', 'consisting', 'with', 'in', 'support', 'present', 'LIBSVM', 'NLTK', 'Python', '600+', 'The', 'Furthermore', 'written', 'by', '&', 'these', '5', 'linear', 'we', 'Language', 'improve', 'implemented', 'cases', '100+', 'SciPy', 'available', 'be', 'more', 'It', 'around', 'to', 'Word', 'results', 'Languages', '[', 'Embeddings', 'Augmentation', 'vector', '.', 'demonstrations', 'In', 'library', 'classification', 'also', 'quot', 'extending', ',', 'methods', 'libraries', 'out-of-the-box', 'Natural', 'Steven', 'https', 'programming', 'of', 'was', 'semantic', 'widely', '%', '40,000+', 'explains', 'Cython', 'Generation', 'NLP', 'previous', 'toolkit', 'Indic', 'regression', 'publicly', ':', 'using', 'developed', 'On', 'largely', 'commonly', '(', 'as'}\n"
          ]
        },
        {
          "output_type": "execute_result",
          "data": {
            "text/plain": [
              "202"
            ]
          },
          "metadata": {},
          "execution_count": 24
        }
      ],
      "source": [
        "print(vocabulary)\n",
        "len(vocabulary)"
      ]
    },
    {
      "cell_type": "code",
      "execution_count": 25,
      "id": "a0d36f64",
      "metadata": {
        "id": "a0d36f64"
      },
      "outputs": [],
      "source": [
        "with open(\"cars.txt\",\"r\") as f:\n",
        "    text=f.read()"
      ]
    },
    {
      "cell_type": "code",
      "execution_count": 26,
      "id": "6766dded",
      "metadata": {
        "colab": {
          "base_uri": "https://localhost:8080/",
          "height": 87
        },
        "id": "6766dded",
        "outputId": "dd7437cc-1112-43d3-c18f-68c751b36312"
      },
      "outputs": [
        {
          "output_type": "execute_result",
          "data": {
            "text/plain": [
              "'A car, used for carrying passengers on roads, is also called an automobile. The word automobile comes from two words “auto” (Greek) and “mobile” (French). A car is a lifestyle that epitomizes the personality of the owner. As the driver sits behind the wheel, a vehicle is an extension of his or her image from the fabric of the seats to the roof. To an enthusiast, a car is a well-crafted machine that requires exploration and admiration. Let us uncover their history, technology, manufacturing, innovation'"
            ],
            "application/vnd.google.colaboratory.intrinsic+json": {
              "type": "string"
            }
          },
          "metadata": {},
          "execution_count": 26
        }
      ],
      "source": [
        "text"
      ]
    },
    {
      "cell_type": "code",
      "execution_count": 27,
      "id": "23ac7b7d",
      "metadata": {
        "colab": {
          "base_uri": "https://localhost:8080/"
        },
        "id": "23ac7b7d",
        "outputId": "bffe716c-b8ae-43da-96ff-9ea0cb77dc40"
      },
      "outputs": [
        {
          "output_type": "stream",
          "name": "stdout",
          "text": [
            "{'called', 'enthusiast', 'on', 'from', 'auto', 'roof', 'machine', 'for', 'epitomizes', 'well-crafted', 'French', 'to', 'exploration', 'carrying', 'us', 'owner', 'their', 'automobile', 'driver', 'and', 'the', 'that', 'admiration', 'lifestyle', 'seats', 'manufacturing', 'word', '.', 'his', 'extension', 'a', 'passengers', 'used', 'also', ',', ')', 'vehicle', 'history', 'behind', 'requires', 'personality', 'Let', 'innovation', 'car', 'words', '”', 'sits', 'comes', 'of', 'or', 'The', 'mobile', 'technology', 'wheel', 'roads', 'To', 'fabric', 'is', 'image', 'Greek', 'A', 'an', 'As', 'her', '(', 'two', 'uncover', '“'}\n"
          ]
        }
      ],
      "source": [
        "print(set(word_tokenize(text)))"
      ]
    },
    {
      "cell_type": "code",
      "execution_count": 28,
      "id": "8f974d4a",
      "metadata": {
        "id": "8f974d4a",
        "colab": {
          "base_uri": "https://localhost:8080/"
        },
        "outputId": "5050ad68-8bd5-4e2e-ec0b-ff480f6abf6d"
      },
      "outputs": [
        {
          "output_type": "stream",
          "name": "stdout",
          "text": [
            "68\n"
          ]
        }
      ],
      "source": [
        "a = set(word_tokenize(text))\n",
        "print(len(a))"
      ]
    },
    {
      "cell_type": "code",
      "execution_count": null,
      "id": "083366be",
      "metadata": {
        "id": "083366be"
      },
      "outputs": [],
      "source": []
    }
  ],
  "metadata": {
    "kernelspec": {
      "display_name": "Python 3 (ipykernel)",
      "language": "python",
      "name": "python3"
    },
    "language_info": {
      "codemirror_mode": {
        "name": "ipython",
        "version": 3
      },
      "file_extension": ".py",
      "mimetype": "text/x-python",
      "name": "python",
      "nbconvert_exporter": "python",
      "pygments_lexer": "ipython3",
      "version": "3.11.5"
    },
    "colab": {
      "provenance": []
    }
  },
  "nbformat": 4,
  "nbformat_minor": 5
}